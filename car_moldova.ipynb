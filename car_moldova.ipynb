{
  "nbformat": 4,
  "nbformat_minor": 0,
  "metadata": {
    "colab": {
      "provenance": [],
      "mount_file_id": "1jiyXMWRsrrsRslATsM0bB_yvrdj9Evrc",
      "authorship_tag": "ABX9TyPKKM+rSL7SPebgMk2kFFSo",
      "include_colab_link": true
    },
    "kernelspec": {
      "name": "python3",
      "display_name": "Python 3"
    },
    "language_info": {
      "name": "python"
    }
  },
  "cells": [
    {
      "cell_type": "markdown",
      "metadata": {
        "id": "view-in-github",
        "colab_type": "text"
      },
      "source": [
        "<a href=\"https://colab.research.google.com/github/Vlada1356277/ML/blob/main/car_moldova.ipynb\" target=\"_parent\"><img src=\"https://colab.research.google.com/assets/colab-badge.svg\" alt=\"Open In Colab\"/></a>"
      ]
    },
    {
      "cell_type": "markdown",
      "source": [
        "# **Линейная регрессия. Датасет Car Moldova**"
      ],
      "metadata": {
        "id": "Zc4JU-R4Hz__"
      }
    },
    {
      "cell_type": "markdown",
      "source": [
        "## Импорт необходимых библиотек"
      ],
      "metadata": {
        "id": "g8ky2pV5HuTd"
      }
    },
    {
      "cell_type": "code",
      "execution_count": 1,
      "metadata": {
        "id": "tuWrJwqJG6fs"
      },
      "outputs": [],
      "source": [
        "import pandas as pd\n",
        "from google.colab import files \n",
        "\n",
        "import numpy as np\n",
        "import matplotlib.pyplot as plt \n",
        "import seaborn as sns; \n",
        "\n",
        "from sklearn.model_selection import train_test_split\n",
        "from sklearn.preprocessing import MinMaxScaler\n",
        "from sklearn.preprocessing import StandardScaler"
      ]
    },
    {
      "cell_type": "markdown",
      "source": [
        "### ***Загрузка датасета***"
      ],
      "metadata": {
        "id": "Gzm8HfNHIQtR"
      }
    },
    {
      "cell_type": "code",
      "source": [
        "uploaded = files.upload()"
      ],
      "metadata": {
        "colab": {
          "base_uri": "https://localhost:8080/",
          "height": 74
        },
        "id": "llRVpnLdIZLb",
        "outputId": "69da2a71-57eb-47db-9f7a-fb9b1bec1700"
      },
      "execution_count": 2,
      "outputs": [
        {
          "output_type": "display_data",
          "data": {
            "text/plain": [
              "<IPython.core.display.HTML object>"
            ],
            "text/html": [
              "\n",
              "     <input type=\"file\" id=\"files-84a51e6e-f32c-4cc2-8c70-c388e6f373cd\" name=\"files[]\" multiple disabled\n",
              "        style=\"border:none\" />\n",
              "     <output id=\"result-84a51e6e-f32c-4cc2-8c70-c388e6f373cd\">\n",
              "      Upload widget is only available when the cell has been executed in the\n",
              "      current browser session. Please rerun this cell to enable.\n",
              "      </output>\n",
              "      <script>// Copyright 2017 Google LLC\n",
              "//\n",
              "// Licensed under the Apache License, Version 2.0 (the \"License\");\n",
              "// you may not use this file except in compliance with the License.\n",
              "// You may obtain a copy of the License at\n",
              "//\n",
              "//      http://www.apache.org/licenses/LICENSE-2.0\n",
              "//\n",
              "// Unless required by applicable law or agreed to in writing, software\n",
              "// distributed under the License is distributed on an \"AS IS\" BASIS,\n",
              "// WITHOUT WARRANTIES OR CONDITIONS OF ANY KIND, either express or implied.\n",
              "// See the License for the specific language governing permissions and\n",
              "// limitations under the License.\n",
              "\n",
              "/**\n",
              " * @fileoverview Helpers for google.colab Python module.\n",
              " */\n",
              "(function(scope) {\n",
              "function span(text, styleAttributes = {}) {\n",
              "  const element = document.createElement('span');\n",
              "  element.textContent = text;\n",
              "  for (const key of Object.keys(styleAttributes)) {\n",
              "    element.style[key] = styleAttributes[key];\n",
              "  }\n",
              "  return element;\n",
              "}\n",
              "\n",
              "// Max number of bytes which will be uploaded at a time.\n",
              "const MAX_PAYLOAD_SIZE = 100 * 1024;\n",
              "\n",
              "function _uploadFiles(inputId, outputId) {\n",
              "  const steps = uploadFilesStep(inputId, outputId);\n",
              "  const outputElement = document.getElementById(outputId);\n",
              "  // Cache steps on the outputElement to make it available for the next call\n",
              "  // to uploadFilesContinue from Python.\n",
              "  outputElement.steps = steps;\n",
              "\n",
              "  return _uploadFilesContinue(outputId);\n",
              "}\n",
              "\n",
              "// This is roughly an async generator (not supported in the browser yet),\n",
              "// where there are multiple asynchronous steps and the Python side is going\n",
              "// to poll for completion of each step.\n",
              "// This uses a Promise to block the python side on completion of each step,\n",
              "// then passes the result of the previous step as the input to the next step.\n",
              "function _uploadFilesContinue(outputId) {\n",
              "  const outputElement = document.getElementById(outputId);\n",
              "  const steps = outputElement.steps;\n",
              "\n",
              "  const next = steps.next(outputElement.lastPromiseValue);\n",
              "  return Promise.resolve(next.value.promise).then((value) => {\n",
              "    // Cache the last promise value to make it available to the next\n",
              "    // step of the generator.\n",
              "    outputElement.lastPromiseValue = value;\n",
              "    return next.value.response;\n",
              "  });\n",
              "}\n",
              "\n",
              "/**\n",
              " * Generator function which is called between each async step of the upload\n",
              " * process.\n",
              " * @param {string} inputId Element ID of the input file picker element.\n",
              " * @param {string} outputId Element ID of the output display.\n",
              " * @return {!Iterable<!Object>} Iterable of next steps.\n",
              " */\n",
              "function* uploadFilesStep(inputId, outputId) {\n",
              "  const inputElement = document.getElementById(inputId);\n",
              "  inputElement.disabled = false;\n",
              "\n",
              "  const outputElement = document.getElementById(outputId);\n",
              "  outputElement.innerHTML = '';\n",
              "\n",
              "  const pickedPromise = new Promise((resolve) => {\n",
              "    inputElement.addEventListener('change', (e) => {\n",
              "      resolve(e.target.files);\n",
              "    });\n",
              "  });\n",
              "\n",
              "  const cancel = document.createElement('button');\n",
              "  inputElement.parentElement.appendChild(cancel);\n",
              "  cancel.textContent = 'Cancel upload';\n",
              "  const cancelPromise = new Promise((resolve) => {\n",
              "    cancel.onclick = () => {\n",
              "      resolve(null);\n",
              "    };\n",
              "  });\n",
              "\n",
              "  // Wait for the user to pick the files.\n",
              "  const files = yield {\n",
              "    promise: Promise.race([pickedPromise, cancelPromise]),\n",
              "    response: {\n",
              "      action: 'starting',\n",
              "    }\n",
              "  };\n",
              "\n",
              "  cancel.remove();\n",
              "\n",
              "  // Disable the input element since further picks are not allowed.\n",
              "  inputElement.disabled = true;\n",
              "\n",
              "  if (!files) {\n",
              "    return {\n",
              "      response: {\n",
              "        action: 'complete',\n",
              "      }\n",
              "    };\n",
              "  }\n",
              "\n",
              "  for (const file of files) {\n",
              "    const li = document.createElement('li');\n",
              "    li.append(span(file.name, {fontWeight: 'bold'}));\n",
              "    li.append(span(\n",
              "        `(${file.type || 'n/a'}) - ${file.size} bytes, ` +\n",
              "        `last modified: ${\n",
              "            file.lastModifiedDate ? file.lastModifiedDate.toLocaleDateString() :\n",
              "                                    'n/a'} - `));\n",
              "    const percent = span('0% done');\n",
              "    li.appendChild(percent);\n",
              "\n",
              "    outputElement.appendChild(li);\n",
              "\n",
              "    const fileDataPromise = new Promise((resolve) => {\n",
              "      const reader = new FileReader();\n",
              "      reader.onload = (e) => {\n",
              "        resolve(e.target.result);\n",
              "      };\n",
              "      reader.readAsArrayBuffer(file);\n",
              "    });\n",
              "    // Wait for the data to be ready.\n",
              "    let fileData = yield {\n",
              "      promise: fileDataPromise,\n",
              "      response: {\n",
              "        action: 'continue',\n",
              "      }\n",
              "    };\n",
              "\n",
              "    // Use a chunked sending to avoid message size limits. See b/62115660.\n",
              "    let position = 0;\n",
              "    do {\n",
              "      const length = Math.min(fileData.byteLength - position, MAX_PAYLOAD_SIZE);\n",
              "      const chunk = new Uint8Array(fileData, position, length);\n",
              "      position += length;\n",
              "\n",
              "      const base64 = btoa(String.fromCharCode.apply(null, chunk));\n",
              "      yield {\n",
              "        response: {\n",
              "          action: 'append',\n",
              "          file: file.name,\n",
              "          data: base64,\n",
              "        },\n",
              "      };\n",
              "\n",
              "      let percentDone = fileData.byteLength === 0 ?\n",
              "          100 :\n",
              "          Math.round((position / fileData.byteLength) * 100);\n",
              "      percent.textContent = `${percentDone}% done`;\n",
              "\n",
              "    } while (position < fileData.byteLength);\n",
              "  }\n",
              "\n",
              "  // All done.\n",
              "  yield {\n",
              "    response: {\n",
              "      action: 'complete',\n",
              "    }\n",
              "  };\n",
              "}\n",
              "\n",
              "scope.google = scope.google || {};\n",
              "scope.google.colab = scope.google.colab || {};\n",
              "scope.google.colab._files = {\n",
              "  _uploadFiles,\n",
              "  _uploadFilesContinue,\n",
              "};\n",
              "})(self);\n",
              "</script> "
            ]
          },
          "metadata": {}
        },
        {
          "output_type": "stream",
          "name": "stdout",
          "text": [
            "Saving cars_moldova_good2.csv to cars_moldova_good2.csv\n"
          ]
        }
      ]
    },
    {
      "cell_type": "code",
      "source": [
        "df = pd.read_csv('/content/cars_moldova_good2.csv', delimiter = ',')\n",
        "df"
      ],
      "metadata": {
        "colab": {
          "base_uri": "https://localhost:8080/",
          "height": 424
        },
        "id": "hG93-f2cAU3Z",
        "outputId": "b2d0650b-0d30-4bd6-c333-71a201554ed4"
      },
      "execution_count": 3,
      "outputs": [
        {
          "output_type": "execute_result",
          "data": {
            "text/plain": [
              "             Make         Model  Year      Style  Distance  \\\n",
              "0          Toyota         Prius  2011  Hatchback  195000.0   \n",
              "1         Renault  Grand Scenic  2014  Universal  135000.0   \n",
              "2         Renault        Laguna  2012  Universal  110000.0   \n",
              "3            Opel         Astra  2006  Universal  200000.0   \n",
              "4        Mercedes          Vito  2000   Microvan  300000.0   \n",
              "...           ...           ...   ...        ...       ...   \n",
              "32529  Volkswagen        Passat  2016      Sedan   88000.0   \n",
              "32530  Land Rover    Freelander  2002  Crossover  225000.0   \n",
              "32531       Dacia     Logan Mcv  2015  Universal   89000.0   \n",
              "32532       Mazda             6  2006      Combi  370000.0   \n",
              "32533     Renault  Grand Scenic  2006    Minivan  300000.0   \n",
              "\n",
              "       Engine_capacity(cm3)     Fuel_type Transmission  Price(euro)  \n",
              "0                    1800.0        Hybrid    Automatic       7750.0  \n",
              "1                    1500.0        Diesel       Manual       8550.0  \n",
              "2                    1500.0        Diesel       Manual       6550.0  \n",
              "3                    1600.0  Metan/Propan       Manual       4100.0  \n",
              "4                    2200.0        Diesel       Manual       3490.0  \n",
              "...                     ...           ...          ...          ...  \n",
              "32529                1800.0        Petrol    Automatic      11500.0  \n",
              "32530                1800.0  Metan/Propan       Manual       4400.0  \n",
              "32531                1500.0        Diesel       Manual       7000.0  \n",
              "32532                2000.0        Diesel       Manual       4000.0  \n",
              "32533                1500.0        Diesel       Manual       4000.0  \n",
              "\n",
              "[32534 rows x 9 columns]"
            ],
            "text/html": [
              "\n",
              "  <div id=\"df-c52ffc95-f393-4c03-a7b0-9f33d30fa6dc\">\n",
              "    <div class=\"colab-df-container\">\n",
              "      <div>\n",
              "<style scoped>\n",
              "    .dataframe tbody tr th:only-of-type {\n",
              "        vertical-align: middle;\n",
              "    }\n",
              "\n",
              "    .dataframe tbody tr th {\n",
              "        vertical-align: top;\n",
              "    }\n",
              "\n",
              "    .dataframe thead th {\n",
              "        text-align: right;\n",
              "    }\n",
              "</style>\n",
              "<table border=\"1\" class=\"dataframe\">\n",
              "  <thead>\n",
              "    <tr style=\"text-align: right;\">\n",
              "      <th></th>\n",
              "      <th>Make</th>\n",
              "      <th>Model</th>\n",
              "      <th>Year</th>\n",
              "      <th>Style</th>\n",
              "      <th>Distance</th>\n",
              "      <th>Engine_capacity(cm3)</th>\n",
              "      <th>Fuel_type</th>\n",
              "      <th>Transmission</th>\n",
              "      <th>Price(euro)</th>\n",
              "    </tr>\n",
              "  </thead>\n",
              "  <tbody>\n",
              "    <tr>\n",
              "      <th>0</th>\n",
              "      <td>Toyota</td>\n",
              "      <td>Prius</td>\n",
              "      <td>2011</td>\n",
              "      <td>Hatchback</td>\n",
              "      <td>195000.0</td>\n",
              "      <td>1800.0</td>\n",
              "      <td>Hybrid</td>\n",
              "      <td>Automatic</td>\n",
              "      <td>7750.0</td>\n",
              "    </tr>\n",
              "    <tr>\n",
              "      <th>1</th>\n",
              "      <td>Renault</td>\n",
              "      <td>Grand Scenic</td>\n",
              "      <td>2014</td>\n",
              "      <td>Universal</td>\n",
              "      <td>135000.0</td>\n",
              "      <td>1500.0</td>\n",
              "      <td>Diesel</td>\n",
              "      <td>Manual</td>\n",
              "      <td>8550.0</td>\n",
              "    </tr>\n",
              "    <tr>\n",
              "      <th>2</th>\n",
              "      <td>Renault</td>\n",
              "      <td>Laguna</td>\n",
              "      <td>2012</td>\n",
              "      <td>Universal</td>\n",
              "      <td>110000.0</td>\n",
              "      <td>1500.0</td>\n",
              "      <td>Diesel</td>\n",
              "      <td>Manual</td>\n",
              "      <td>6550.0</td>\n",
              "    </tr>\n",
              "    <tr>\n",
              "      <th>3</th>\n",
              "      <td>Opel</td>\n",
              "      <td>Astra</td>\n",
              "      <td>2006</td>\n",
              "      <td>Universal</td>\n",
              "      <td>200000.0</td>\n",
              "      <td>1600.0</td>\n",
              "      <td>Metan/Propan</td>\n",
              "      <td>Manual</td>\n",
              "      <td>4100.0</td>\n",
              "    </tr>\n",
              "    <tr>\n",
              "      <th>4</th>\n",
              "      <td>Mercedes</td>\n",
              "      <td>Vito</td>\n",
              "      <td>2000</td>\n",
              "      <td>Microvan</td>\n",
              "      <td>300000.0</td>\n",
              "      <td>2200.0</td>\n",
              "      <td>Diesel</td>\n",
              "      <td>Manual</td>\n",
              "      <td>3490.0</td>\n",
              "    </tr>\n",
              "    <tr>\n",
              "      <th>...</th>\n",
              "      <td>...</td>\n",
              "      <td>...</td>\n",
              "      <td>...</td>\n",
              "      <td>...</td>\n",
              "      <td>...</td>\n",
              "      <td>...</td>\n",
              "      <td>...</td>\n",
              "      <td>...</td>\n",
              "      <td>...</td>\n",
              "    </tr>\n",
              "    <tr>\n",
              "      <th>32529</th>\n",
              "      <td>Volkswagen</td>\n",
              "      <td>Passat</td>\n",
              "      <td>2016</td>\n",
              "      <td>Sedan</td>\n",
              "      <td>88000.0</td>\n",
              "      <td>1800.0</td>\n",
              "      <td>Petrol</td>\n",
              "      <td>Automatic</td>\n",
              "      <td>11500.0</td>\n",
              "    </tr>\n",
              "    <tr>\n",
              "      <th>32530</th>\n",
              "      <td>Land Rover</td>\n",
              "      <td>Freelander</td>\n",
              "      <td>2002</td>\n",
              "      <td>Crossover</td>\n",
              "      <td>225000.0</td>\n",
              "      <td>1800.0</td>\n",
              "      <td>Metan/Propan</td>\n",
              "      <td>Manual</td>\n",
              "      <td>4400.0</td>\n",
              "    </tr>\n",
              "    <tr>\n",
              "      <th>32531</th>\n",
              "      <td>Dacia</td>\n",
              "      <td>Logan Mcv</td>\n",
              "      <td>2015</td>\n",
              "      <td>Universal</td>\n",
              "      <td>89000.0</td>\n",
              "      <td>1500.0</td>\n",
              "      <td>Diesel</td>\n",
              "      <td>Manual</td>\n",
              "      <td>7000.0</td>\n",
              "    </tr>\n",
              "    <tr>\n",
              "      <th>32532</th>\n",
              "      <td>Mazda</td>\n",
              "      <td>6</td>\n",
              "      <td>2006</td>\n",
              "      <td>Combi</td>\n",
              "      <td>370000.0</td>\n",
              "      <td>2000.0</td>\n",
              "      <td>Diesel</td>\n",
              "      <td>Manual</td>\n",
              "      <td>4000.0</td>\n",
              "    </tr>\n",
              "    <tr>\n",
              "      <th>32533</th>\n",
              "      <td>Renault</td>\n",
              "      <td>Grand Scenic</td>\n",
              "      <td>2006</td>\n",
              "      <td>Minivan</td>\n",
              "      <td>300000.0</td>\n",
              "      <td>1500.0</td>\n",
              "      <td>Diesel</td>\n",
              "      <td>Manual</td>\n",
              "      <td>4000.0</td>\n",
              "    </tr>\n",
              "  </tbody>\n",
              "</table>\n",
              "<p>32534 rows × 9 columns</p>\n",
              "</div>\n",
              "      <button class=\"colab-df-convert\" onclick=\"convertToInteractive('df-c52ffc95-f393-4c03-a7b0-9f33d30fa6dc')\"\n",
              "              title=\"Convert this dataframe to an interactive table.\"\n",
              "              style=\"display:none;\">\n",
              "        \n",
              "  <svg xmlns=\"http://www.w3.org/2000/svg\" height=\"24px\"viewBox=\"0 0 24 24\"\n",
              "       width=\"24px\">\n",
              "    <path d=\"M0 0h24v24H0V0z\" fill=\"none\"/>\n",
              "    <path d=\"M18.56 5.44l.94 2.06.94-2.06 2.06-.94-2.06-.94-.94-2.06-.94 2.06-2.06.94zm-11 1L8.5 8.5l.94-2.06 2.06-.94-2.06-.94L8.5 2.5l-.94 2.06-2.06.94zm10 10l.94 2.06.94-2.06 2.06-.94-2.06-.94-.94-2.06-.94 2.06-2.06.94z\"/><path d=\"M17.41 7.96l-1.37-1.37c-.4-.4-.92-.59-1.43-.59-.52 0-1.04.2-1.43.59L10.3 9.45l-7.72 7.72c-.78.78-.78 2.05 0 2.83L4 21.41c.39.39.9.59 1.41.59.51 0 1.02-.2 1.41-.59l7.78-7.78 2.81-2.81c.8-.78.8-2.07 0-2.86zM5.41 20L4 18.59l7.72-7.72 1.47 1.35L5.41 20z\"/>\n",
              "  </svg>\n",
              "      </button>\n",
              "      \n",
              "  <style>\n",
              "    .colab-df-container {\n",
              "      display:flex;\n",
              "      flex-wrap:wrap;\n",
              "      gap: 12px;\n",
              "    }\n",
              "\n",
              "    .colab-df-convert {\n",
              "      background-color: #E8F0FE;\n",
              "      border: none;\n",
              "      border-radius: 50%;\n",
              "      cursor: pointer;\n",
              "      display: none;\n",
              "      fill: #1967D2;\n",
              "      height: 32px;\n",
              "      padding: 0 0 0 0;\n",
              "      width: 32px;\n",
              "    }\n",
              "\n",
              "    .colab-df-convert:hover {\n",
              "      background-color: #E2EBFA;\n",
              "      box-shadow: 0px 1px 2px rgba(60, 64, 67, 0.3), 0px 1px 3px 1px rgba(60, 64, 67, 0.15);\n",
              "      fill: #174EA6;\n",
              "    }\n",
              "\n",
              "    [theme=dark] .colab-df-convert {\n",
              "      background-color: #3B4455;\n",
              "      fill: #D2E3FC;\n",
              "    }\n",
              "\n",
              "    [theme=dark] .colab-df-convert:hover {\n",
              "      background-color: #434B5C;\n",
              "      box-shadow: 0px 1px 3px 1px rgba(0, 0, 0, 0.15);\n",
              "      filter: drop-shadow(0px 1px 2px rgba(0, 0, 0, 0.3));\n",
              "      fill: #FFFFFF;\n",
              "    }\n",
              "  </style>\n",
              "\n",
              "      <script>\n",
              "        const buttonEl =\n",
              "          document.querySelector('#df-c52ffc95-f393-4c03-a7b0-9f33d30fa6dc button.colab-df-convert');\n",
              "        buttonEl.style.display =\n",
              "          google.colab.kernel.accessAllowed ? 'block' : 'none';\n",
              "\n",
              "        async function convertToInteractive(key) {\n",
              "          const element = document.querySelector('#df-c52ffc95-f393-4c03-a7b0-9f33d30fa6dc');\n",
              "          const dataTable =\n",
              "            await google.colab.kernel.invokeFunction('convertToInteractive',\n",
              "                                                     [key], {});\n",
              "          if (!dataTable) return;\n",
              "\n",
              "          const docLinkHtml = 'Like what you see? Visit the ' +\n",
              "            '<a target=\"_blank\" href=https://colab.research.google.com/notebooks/data_table.ipynb>data table notebook</a>'\n",
              "            + ' to learn more about interactive tables.';\n",
              "          element.innerHTML = '';\n",
              "          dataTable['output_type'] = 'display_data';\n",
              "          await google.colab.output.renderOutput(dataTable, element);\n",
              "          const docLink = document.createElement('div');\n",
              "          docLink.innerHTML = docLinkHtml;\n",
              "          element.appendChild(docLink);\n",
              "        }\n",
              "      </script>\n",
              "    </div>\n",
              "  </div>\n",
              "  "
            ]
          },
          "metadata": {},
          "execution_count": 3
        }
      ]
    },
    {
      "cell_type": "markdown",
      "source": [
        "***Списки столбцов с числовыми и категориальными данными***"
      ],
      "metadata": {
        "id": "D7UQf3XLBEfn"
      }
    },
    {
      "cell_type": "code",
      "source": [
        "cat_columns = ['Make', 'Model', 'Style', 'Fuel_type', 'Transmission', 'km_category', 'engine_category']\n",
        "num_columns = ['Year', 'Distance', 'Engine_capacity(cm3)', 'Price(euro)']"
      ],
      "metadata": {
        "id": "uHTehR2hA-eC"
      },
      "execution_count": 4,
      "outputs": []
    },
    {
      "cell_type": "markdown",
      "source": [
        "***Разбиваем на тренировочную и тестовые выборки***\n"
      ],
      "metadata": {
        "id": "75vTrhuoBjj_"
      }
    },
    {
      "cell_type": "code",
      "source": [
        "df_numerical = df[num_columns].copy()\n",
        "\n",
        "X = df_numerical.drop(columns = 'Price(euro)').values\n",
        "features_names = df_numerical.drop(columns = 'Price(euro)').columns\n",
        "\n",
        "y = df_numerical['Price(euro)'].values\n",
        "\n",
        "X_train, X_test, y_train, y_test = train_test_split(X, y, test_size=0.3, random_state=42)\n",
        "\n",
        "scaler  = MinMaxScaler()\n",
        "scaler.fit_transform(X_train)\n",
        "X_train = scaler.transform(X_train) \n",
        "X_test  = scaler.transform(X_test)"
      ],
      "metadata": {
        "id": "Xf3lLFq2Bnez"
      },
      "execution_count": 5,
      "outputs": []
    },
    {
      "cell_type": "markdown",
      "source": [
        "***Создадим функцию потерь и рассчета***"
      ],
      "metadata": {
        "id": "5jTlg8RZCGtT"
      }
    },
    {
      "cell_type": "code",
      "source": [
        "def forward(weights, inputs):\n",
        "    return inputs.dot(weights.T) # матричное произведение на транспонированные весы \n",
        "\n",
        "def loss_func(predicts, labels): # функция потерь - квадрат разности между целевыми значениями и их предсказаниями\n",
        "        return np.square(predicts - labels)  \n"
      ],
      "metadata": {
        "id": "nlve5A8eCWxn"
      },
      "execution_count": 6,
      "outputs": []
    },
    {
      "cell_type": "markdown",
      "source": [
        " ***Протестируем функции***"
      ],
      "metadata": {
        "id": "PH6H3jwZDAbn"
      }
    },
    {
      "cell_type": "code",
      "source": [
        "weights = np.random.randn(X.shape[1])\n",
        "print(weights)\n",
        "yhat = forward(weights, X_train[0])\n",
        "loss = np.sqrt(loss_func(yhat, y[0]))\n",
        "print(yhat, y[0], loss)"
      ],
      "metadata": {
        "colab": {
          "base_uri": "https://localhost:8080/"
        },
        "id": "Bec9anyEDQRf",
        "outputId": "f2a43ff7-438a-4374-838d-e3b3af0df4e0"
      },
      "execution_count": 7,
      "outputs": [
        {
          "output_type": "stream",
          "name": "stdout",
          "text": [
            "[ 0.93342899 -0.9004844   0.27339224]\n",
            "0.7052618924485777 7750.0 7749.294738107551\n"
          ]
        }
      ]
    },
    {
      "cell_type": "code",
      "source": [
        "def grad_loss(predicts, labels, inputs):\n",
        "    return 2*(predicts - labels)*inputs/inputs.size\n"
      ],
      "metadata": {
        "id": "Dtl13IkEZNfK"
      },
      "execution_count": 8,
      "outputs": []
    },
    {
      "cell_type": "markdown",
      "source": [
        "***Проведем расчет градиента ошибки***"
      ],
      "metadata": {
        "id": "4nLI93tpZb_e"
      }
    },
    {
      "cell_type": "code",
      "source": [
        "weights = np.random.randn(X.shape[1])\n",
        "yhat = forward(weights, X_train[0])\n",
        "print(weights)\n",
        "grad = grad_loss(yhat, y[0], X[0])\n",
        "print(grad)\n"
      ],
      "metadata": {
        "colab": {
          "base_uri": "https://localhost:8080/"
        },
        "id": "1dFoe01eZbWo",
        "outputId": "6128c534-501d-4c42-d104-670ad2b68af5"
      },
      "execution_count": 9,
      "outputs": [
        {
          "output_type": "stream",
          "name": "stdout",
          "text": [
            "[-0.20366592  1.05167755 -0.21267319]\n",
            "[-1.03902487e+07 -1.00750796e+09 -9.30007346e+06]\n"
          ]
        }
      ]
    },
    {
      "cell_type": "markdown",
      "source": [
        "***Функция обновления весов:***"
      ],
      "metadata": {
        "id": "N_mOB0JLZzJu"
      }
    },
    {
      "cell_type": "code",
      "source": [
        "def update_weights(grad, weights, lerning_rate):\n",
        "    return weights - lerning_rate*grad\n"
      ],
      "metadata": {
        "id": "AbLqsPnAZn1i"
      },
      "execution_count": 10,
      "outputs": []
    },
    {
      "cell_type": "markdown",
      "source": [
        "***Проведем обновление весовых параметров***"
      ],
      "metadata": {
        "id": "XfPBqj0vZ7Jt"
      }
    },
    {
      "cell_type": "code",
      "source": [
        "lerning_rate = 0.01\n",
        "weights = update_weights(grad, weights, lerning_rate)\n",
        "print(weights)"
      ],
      "metadata": {
        "colab": {
          "base_uri": "https://localhost:8080/"
        },
        "id": "xHtDc6IFZ_p8",
        "outputId": "eefd0edc-fbbd-4d0c-ff39-61aceaf388b4"
      },
      "execution_count": 11,
      "outputs": [
        {
          "output_type": "stream",
          "name": "stdout",
          "text": [
            "[  103902.28370549 10075080.63269461    93000.52192081]\n"
          ]
        }
      ]
    },
    {
      "cell_type": "markdown",
      "source": [
        "***Создадим функцию инициации весов***"
      ],
      "metadata": {
        "id": "orH_JCykaPp_"
      }
    },
    {
      "cell_type": "code",
      "source": [
        "def weights_init(weights, random_state=42):\n",
        "    if np.ndim(weights)<1:\n",
        "        weights = np.zeros(weights)\n",
        "        \n",
        "    np.random.seed(random_state)\n",
        "    return np.random.randn(*weights.shape)/np.sqrt(weights.size)"
      ],
      "metadata": {
        "id": "oLEdsmCdaQ7e"
      },
      "execution_count": 12,
      "outputs": []
    },
    {
      "cell_type": "code",
      "source": [
        "weights = weights_init(X_train.shape[1], random_state=42)\n",
        "weights"
      ],
      "metadata": {
        "colab": {
          "base_uri": "https://localhost:8080/"
        },
        "id": "1teCh5SOaZ-f",
        "outputId": "fc02ce26-eb19-4a96-d77e-e72a90268b14"
      },
      "execution_count": 13,
      "outputs": [
        {
          "output_type": "execute_result",
          "data": {
            "text/plain": [
              "array([ 0.28677805, -0.07982693,  0.37394315])"
            ]
          },
          "metadata": {},
          "execution_count": 13
        }
      ]
    },
    {
      "cell_type": "markdown",
      "source": [
        "***Создадим функцию обучения***"
      ],
      "metadata": {
        "id": "qVWgGs1wamsH"
      }
    },
    {
      "cell_type": "code",
      "source": [
        "def fit(X, y, weights, lr,  epochs=30):\n",
        "    \n",
        "    cost = np.zeros(epochs)\n",
        "    for i in range(epochs): \n",
        "        \n",
        "        grad = np.zeros(weights.shape); # задаем веса\n",
        "        loss = 0; # начальное значение функции потерь\n",
        "        \n",
        "        for m in range(X.shape[0]): \n",
        "            yhat  = forward(weights, X[m,:]) # считаем значение целевой переменной\n",
        "            grad += grad_loss(yhat,  y[m], X[m,:]) # градиент\n",
        "            loss += loss_func(yhat,  y[m]) # функцию потерь \n",
        "\n",
        "        weights = update_weights(grad/X.shape[0],weights, lr)  # обновляем веса\n",
        "        cost[i] = loss/X.shape[0] # запоминаем текущую функцию потерь\n",
        "    \n",
        "    return weights, cost\n"
      ],
      "metadata": {
        "id": "rtTgLzcjasny"
      },
      "execution_count": 14,
      "outputs": []
    },
    {
      "cell_type": "markdown",
      "source": [
        "***Протестируем обучение***"
      ],
      "metadata": {
        "id": "jN2mEG_mayvs"
      }
    },
    {
      "cell_type": "code",
      "source": [
        "def plot_cost(cost):\n",
        "    plt.plot(cost, 'o-', linewidth = 4, markersize = 15, mfc='none' ); \n",
        "    plt.grid()\n",
        "    plt.xlabel(\"Эпоха\",fontsize=35)\n",
        "    plt.ylabel(\"Функция Потерь\",fontsize=35)\n",
        "    plt.xticks(FontSize = 25)\n",
        "\n",
        "    plt.yticks(FontSize = 25);  \n"
      ],
      "metadata": {
        "id": "qPXw-Lw-a2cX"
      },
      "execution_count": 15,
      "outputs": []
    },
    {
      "cell_type": "code",
      "source": [
        "weights = weights_init(X_train.shape[1], random_state=42)\n",
        "\n",
        "weights, cost = fit(X_train, y_train, weights, lr=0.9,  epochs=100)\n",
        "\n",
        "fig  = plt.figure(figsize=(15,7))\n",
        "plot_cost(cost);"
      ],
      "metadata": {
        "colab": {
          "base_uri": "https://localhost:8080/",
          "height": 491
        },
        "id": "49UnbXPKa5S2",
        "outputId": "2289bb7f-e068-446d-aae3-01c86ebc701c"
      },
      "execution_count": 16,
      "outputs": [
        {
          "output_type": "display_data",
          "data": {
            "text/plain": [
              "<Figure size 1080x504 with 1 Axes>"
            ],
            "image/png": "[encoded data removed]"
          },
          "metadata": {
            "needs_background": "light"
          }
        }
      ]
    },
    {
      "cell_type": "markdown",
      "source": [
        "***Создадим функцию предсказания***"
      ],
      "metadata": {
        "id": "WuDBJsHGa9MR"
      }
    },
    {
      "cell_type": "code",
      "source": [
        "def predict(weights, inputs):\n",
        "    yhat = np.zeros(inputs.shape[0])\n",
        "    \n",
        "    for m in range(inputs.shape[0]):\n",
        "        yhat[m] = inputs[m,:].dot(weights.T)\n",
        "    \n",
        "    return yhat"
      ],
      "metadata": {
        "id": "bDljy0iqbCmA"
      },
      "execution_count": 17,
      "outputs": []
    },
    {
      "cell_type": "markdown",
      "source": [
        "***Посмотрим, как выглядят предсказанные ответы на фоне реальных***"
      ],
      "metadata": {
        "id": "9vj54_vVbIz3"
      }
    },
    {
      "cell_type": "code",
      "source": [
        "yhat = predict(weights, X_test)\n",
        "plt.plot(y_test, label='original')\n",
        "plt.plot(yhat, label='predicted');\n"
      ],
      "metadata": {
        "colab": {
          "base_uri": "https://localhost:8080/",
          "height": 265
        },
        "id": "_xEhqz72bMoa",
        "outputId": "3b4d02a1-4f81-47f0-d58e-d5e1cdb0a09b"
      },
      "execution_count": 18,
      "outputs": [
        {
          "output_type": "display_data",
          "data": {
            "text/plain": [
              "<Figure size 432x288 with 1 Axes>"
            ],
            "image/png": "[encoded data removed]"
          },
          "metadata": {
            "needs_background": "light"
          }
        }
      ]
    },
    {
      "cell_type": "code",
      "source": [
        "plt.scatter(y_test,yhat,alpha = 0.7)\n",
        "plt.plot([y_test.min(),y_test.max()],[y_test.min(),y_test.max()], 'r')\n",
        "plt.xlabel('original')\n",
        "plt.ylabel('predicted');\n"
      ],
      "metadata": {
        "colab": {
          "base_uri": "https://localhost:8080/",
          "height": 279
        },
        "id": "AgLlZPonbRnn",
        "outputId": "6b34b579-c621-4dfe-e45e-28683237b9cf"
      },
      "execution_count": 19,
      "outputs": [
        {
          "output_type": "display_data",
          "data": {
            "text/plain": [
              "<Figure size 432x288 with 1 Axes>"
            ],
            "image/png": "[encoded data removed]"
          },
          "metadata": {
            "needs_background": "light"
          }
        }
      ]
    },
    {
      "cell_type": "markdown",
      "source": [
        "### ***Оценим модель***"
      ],
      "metadata": {
        "id": "TVDsmzR4dFKV"
      }
    },
    {
      "cell_type": "markdown",
      "source": [
        "***Средняя квадратическая ошибка(MSE)***"
      ],
      "metadata": {
        "id": "1axMZFzZdLQt"
      }
    },
    {
      "cell_type": "code",
      "source": [
        "def mean_square_error(weights, inputs, labels):\n",
        "    predicts = predict(weights, inputs)\n",
        "    return np.mean(np.sum(np.square(labels-predicts)))\n",
        "\n",
        "mean_square_error(weights, X_test, y_test)"
      ],
      "metadata": {
        "colab": {
          "base_uri": "https://localhost:8080/"
        },
        "id": "H0-cw8I0dOwJ",
        "outputId": "b503951e-ac6d-44a6-a10d-c471eaa541b7"
      },
      "execution_count": 28,
      "outputs": [
        {
          "output_type": "execute_result",
          "data": {
            "text/plain": [
              "554737917092.3921"
            ]
          },
          "metadata": {},
          "execution_count": 28
        }
      ]
    },
    {
      "cell_type": "markdown",
      "source": [
        "***Средняя абсолютная ошибка(MAE)***"
      ],
      "metadata": {
        "id": "W7ODM0SHdTqS"
      }
    },
    {
      "cell_type": "code",
      "source": [
        "def mean_absolute_error(weights, inputs, labels):\n",
        "    predicts = predict(weights, inputs)\n",
        "    return np.mean(np.sum(np.abs(labels-predicts)))\n",
        "    \n",
        "mean_absolute_error(weights, X_test, y_test)"
      ],
      "metadata": {
        "colab": {
          "base_uri": "https://localhost:8080/"
        },
        "id": "amyTx0aRdWwo",
        "outputId": "ed66f19d-3b93-4aa2-a570-1466b4e6a98a"
      },
      "execution_count": 29,
      "outputs": [
        {
          "output_type": "execute_result",
          "data": {
            "text/plain": [
              "46133406.592756055"
            ]
          },
          "metadata": {},
          "execution_count": 29
        }
      ]
    },
    {
      "cell_type": "markdown",
      "source": [
        "***Коэффициент детерминации***"
      ],
      "metadata": {
        "id": "JcFIe6F5b7Bk"
      }
    },
    {
      "cell_type": "code",
      "source": [
        "def r2_score(weights, inputs, labels):\n",
        "    predicts = predict(weights, inputs)\n",
        "    return 1-np.sum(np.square(labels-predicts))/np.sum(np.square(labels-np.mean(labels)))\n",
        "\n",
        "r2_score(weights, X_test, y_test)"
      ],
      "metadata": {
        "colab": {
          "base_uri": "https://localhost:8080/"
        },
        "id": "kTZl9g7jb_Nl",
        "outputId": "cf6681e2-5a90-454f-fdae-4d4c7359a91b"
      },
      "execution_count": 20,
      "outputs": [
        {
          "output_type": "execute_result",
          "data": {
            "text/plain": [
              "0.31909482688393864"
            ]
          },
          "metadata": {},
          "execution_count": 20
        }
      ]
    },
    {
      "cell_type": "code",
      "source": [
        "BATCH = 5000\n",
        "\n",
        "def fit_SGD(X, y, weights, lr,  epochs=30, batch_size = BATCH, random_state = 42):\n",
        "    \n",
        "    np.random.seed(random_state)\n",
        "    \n",
        "    \n",
        "    cost = np.zeros(epochs)\n",
        "    for i in range(epochs): \n",
        "        \n",
        "        grad = np.zeros(weights.shape);\n",
        "        loss = 0;\n",
        "        \n",
        "        idx_batch = np.random.randint(0,X.shape[0],batch_size)\n",
        "        x_batch   = np.take(X, idx_batch, axis=0)\n",
        "        y_batch   = np.take(y, idx_batch)\n",
        "\n",
        "        \n",
        "        for m in range(batch_size): \n",
        "            yhat  = forward(weights, x_batch[m,:])\n",
        "            grad += grad_loss(yhat,  y_batch[m], x_batch[m,:])\n",
        "            loss += loss_func(yhat,  y_batch[m])\n",
        "\n",
        "        weights  = update_weights(grad/batch_size,weights, lr)  \n",
        "        cost[i] =loss/batch_size\n",
        "    \n",
        "    return weights, cost\n"
      ],
      "metadata": {
        "id": "DVtTrCwXcGBL"
      },
      "execution_count": 21,
      "outputs": []
    },
    {
      "cell_type": "code",
      "source": [
        "weights = weights_init(X_train.shape[1], random_state=42)\n",
        "\n",
        "weights, cost = fit_SGD(X_train, y_train, weights, lr=0.7,  epochs=300)\n",
        "\n",
        "fig  = plt.figure(figsize=(15,7))\n",
        "plot_cost(cost)\n",
        "\n",
        "print(r2_score(weights, X_test, y_test))\n",
        "\n"
      ],
      "metadata": {
        "colab": {
          "base_uri": "https://localhost:8080/",
          "height": 509
        },
        "id": "U-tG9aWpcI4F",
        "outputId": "e45ea196-c0de-419b-82c0-234196798e24"
      },
      "execution_count": 22,
      "outputs": [
        {
          "output_type": "stream",
          "name": "stdout",
          "text": [
            "0.3625361296257428\n"
          ]
        },
        {
          "output_type": "display_data",
          "data": {
            "text/plain": [
              "<Figure size 1080x504 with 1 Axes>"
            ],
            "image/png": "[encoded data removed]"
          },
          "metadata": {
            "needs_background": "light"
          }
        }
      ]
    },
    {
      "cell_type": "markdown",
      "source": [
        "**Объеденим все в один класс**\n",
        "\n"
      ],
      "metadata": {
        "id": "PnNVggvucMuC"
      }
    },
    {
      "cell_type": "code",
      "source": [
        "class LinearRegression():\n",
        "    def __init__(self, \n",
        "                 learning_rate = 0.5, \n",
        "                 epochs = 100, \n",
        "                 weights = None, \n",
        "                 bias    = None, \n",
        "                 batch_size   = 1000, \n",
        "                 random_state = 42):\n",
        "        self.lr      = learning_rate\n",
        "        self.epochs  = epochs\n",
        "        self.weights = weights\n",
        "        self.bias    = bias\n",
        "        self.seed    = random_state\n",
        "        self.batch_size = batch_size\n",
        "        self.cost    = np.zeros(epochs)\n",
        "        \n",
        "        # если веса и смещения заданы\n",
        "        if not(self.weights is None) and (self.bias):\n",
        "            if self.weights.size == X.shape[1]:\n",
        "            #совмещаем в один массив, если мы этого не сделали\n",
        "                self.weights = np.append(self.bias,self.weights)\n",
        "      #---------------------------------\n",
        "    def forward(self, X):\n",
        "        return self.weights.dot(X.T)\n",
        "    \n",
        "    #---------------------------------\n",
        "    def loss(self,yhat, y):\n",
        "        return np.square(yhat - y).sum()/y.size\n",
        "    \n",
        "    #---------------------------------\n",
        "    def grad_step(self,yhat, y, X):\n",
        "        return 2*np.dot(X.T, (yhat - y)) / y.size\n",
        "    \n",
        "    #---------------------------------\n",
        "    def update(self):    \n",
        "        return self.weights - self.lr*self.grad\n",
        "    \n",
        "    #---------------------------------\n",
        "    def init(self, weights_size):\n",
        "        np.random.seed(self.seed)\n",
        "        return np.random.randn(weights_size)/np.sqrt(weights_size)\n",
        "    \n",
        "    #---------------------------------\n",
        "    def add_bias(self, X):\n",
        "        return np.column_stack((np.ones(X.shape[0]), X))\n",
        "\n",
        "    #---------------------------------\n",
        "    def predict(self, X):\n",
        "        yhat = self.forward(self.add_bias(X))\n",
        "        return yhat\n",
        "    \n",
        "    #---------------------------------\n",
        "    def score(self, X, y):        \n",
        "        yhat = self.predict(X)\n",
        "        return 1-np.sum(np.square(y-yhat))/np.sum(np.square(y-np.mean(y)))#---------------------------------\n",
        "    def load_batch(self,X,y):\n",
        "        idx_batch = np.random.randint(0,X.shape[0],self.batch_size)\n",
        "        x_batch   = np.take(X, idx_batch, axis=0)\n",
        "        x_batch   = self.add_bias(x_batch)\n",
        "        y_batch   = np.take(y, idx_batch)\n",
        "        return  x_batch, y_batch\n",
        "\n",
        "    #---------------------------------\n",
        "    def fit(self, X, y):\n",
        "\n",
        "        np.random.seed(self.seed)\n",
        "        \n",
        "        if self.weights is None:\n",
        "            self.weights = self.init(X.shape[1])\n",
        "        \n",
        "        if self.bias is None: \n",
        "            self.bias    = self.init(1)\n",
        "        \n",
        "        if self.weights.size == X.shape[1]:\n",
        "            #совмещаем в один массив, если мы этого не сделали\n",
        "            self.weights = np.append(self.bias,self.weights)\n",
        "        \n",
        "        self.grad    = np.zeros(self.weights.shape)\n",
        "        self.cost    = np.zeros(self.epochs)\n",
        "\n",
        "        if self.batch_size is None:            \n",
        "            x_batch   = self.add_bias(X)\n",
        "            y_batch   = y\n",
        "        \n",
        "        for i in range(self.epochs): \n",
        "\n",
        "            if self.batch_size: \n",
        "                x_batch, y_batch = self.load_batch(X,y)\n",
        "\n",
        "            yhat = self.forward(x_batch)\n",
        "            self.grad    = self.grad_step(yhat,  y_batch, x_batch) \n",
        "            self.weights = self.update()  \n",
        "            self.cost[i] = self.loss(yhat,  y_batch)\n",
        "\n",
        "        self.bias = self.weights[0]\n",
        "     \n",
        "    #---------------------------------\n",
        "    def plot_cost(self, figsize = (12,6), title = ''):\n",
        "        plt.figure(figsize = figsize)\n",
        "        plt.plot(self.cost)\n",
        "        plt.grid()\n",
        "        plt.xlabel('Эпоха', fontsize = 24)\n",
        "        plt.ylabel('Функция Потерь', fontsize = 24)\n",
        "        plt.title(title, fontsize = 24)\n",
        "        plt.show()\n",
        "    \n",
        "    #---------------------------------\n",
        "    def get_w_and_b(self):\n",
        "        return (self.weights[1:], self.bias)\n"
      ],
      "metadata": {
        "id": "Sk7ahbEwcWt0"
      },
      "execution_count": 23,
      "outputs": []
    },
    {
      "cell_type": "code",
      "source": [
        "regr = LinearRegression(learning_rate=0.5,epochs=300,batch_size=3000)\n",
        "regr.fit(X_train, y_train)\n",
        "\n",
        "regr.plot_cost()\n",
        "\n",
        "print( 'train R2: %.4f; test R2: %.4f' % (regr.score(X_train, y_train), regr.score(X_test, y_test)))\n"
      ],
      "metadata": {
        "colab": {
          "base_uri": "https://localhost:8080/",
          "height": 431
        },
        "id": "yyiaP1RjcyT8",
        "outputId": "37d6b156-2879-4b2f-8e5e-925866f6026f"
      },
      "execution_count": 24,
      "outputs": [
        {
          "output_type": "display_data",
          "data": {
            "text/plain": [
              "<Figure size 864x432 with 1 Axes>"
            ],
            "image/png": "[encoded data removed]"
          },
          "metadata": {
            "needs_background": "light"
          }
        },
        {
          "output_type": "stream",
          "name": "stdout",
          "text": [
            "train R2: 0.4794; test R2: 0.4738\n"
          ]
        }
      ]
    },
    {
      "cell_type": "markdown",
      "source": [
        "***Посмотрим веса***"
      ],
      "metadata": {
        "id": "FnGZMK8jc3Z_"
      }
    },
    {
      "cell_type": "code",
      "source": [
        "def vis_weigths(weights, names):\n",
        "    numbers = np.arange(0,len(weights))\n",
        "    tick_labels = names\n",
        "    cc=['']*len(numbers)\n",
        "    for n,val in enumerate(weights):\n",
        "        if val<0:\n",
        "            cc[n]='red'\n",
        "        elif val>=0:\n",
        "            cc[n]='blue'\n",
        "\n",
        "    plt.bar(x = numbers, height = weights, color = cc)\n",
        "    plt.xticks(np.arange(0,len(weights)),tick_labels, rotation = 45 );"
      ],
      "metadata": {
        "id": "rPzVN-vOc7Q6"
      },
      "execution_count": 25,
      "outputs": []
    },
    {
      "cell_type": "code",
      "source": [
        "w, b = regr.get_w_and_b()\n",
        "\n",
        "vis_weigths(w, features_names)"
      ],
      "metadata": {
        "colab": {
          "base_uri": "https://localhost:8080/",
          "height": 341
        },
        "id": "UO-2oHLfc957",
        "outputId": "aa35a6ff-a154-4df5-db4b-42c02e90bc70"
      },
      "execution_count": 26,
      "outputs": [
        {
          "output_type": "display_data",
          "data": {
            "text/plain": [
              "<Figure size 432x288 with 1 Axes>"
            ],
            "image/png": "[encoded data removed]"
          },
          "metadata": {
            "needs_background": "light"
          }
        }
      ]
    },
    {
      "cell_type": "code",
      "source": [
        "np.sum(np.abs(w))"
      ],
      "metadata": {
        "colab": {
          "base_uri": "https://localhost:8080/"
        },
        "id": "Lb_v2ZytdAqb",
        "outputId": "635d42ff-99a8-4f91-99ea-9bcfc99989ea"
      },
      "execution_count": 27,
      "outputs": [
        {
          "output_type": "execute_result",
          "data": {
            "text/plain": [
              "78688.46749337456"
            ]
          },
          "metadata": {},
          "execution_count": 27
        }
      ]
    },
    {
      "cell_type": "markdown",
      "source": [
        "### **One-hot кодирование**"
      ],
      "metadata": {
        "id": "Vj4lmKEKfJDM"
      }
    },
    {
      "cell_type": "code",
      "source": [
        "uploaded = files.upload()"
      ],
      "metadata": {
        "colab": {
          "base_uri": "https://localhost:8080/",
          "height": 56
        },
        "id": "gOGQ5CWSfNo1",
        "outputId": "d57b96b1-ba1d-4d6d-b553-5bfb4d6550a2"
      },
      "execution_count": null,
      "outputs": [
        {
          "output_type": "display_data",
          "data": {
            "text/plain": [
              "<IPython.core.display.HTML object>"
            ],
            "text/html": [
              "\n",
              "     <input type=\"file\" id=\"files-228e62d2-0825-4b85-bc84-25fd6eb841e2\" name=\"files[]\" multiple disabled\n",
              "        style=\"border:none\" />\n",
              "     <output id=\"result-228e62d2-0825-4b85-bc84-25fd6eb841e2\">\n",
              "      Upload widget is only available when the cell has been executed in the\n",
              "      current browser session. Please rerun this cell to enable.\n",
              "      </output>\n",
              "      <script>// Copyright 2017 Google LLC\n",
              "//\n",
              "// Licensed under the Apache License, Version 2.0 (the \"License\");\n",
              "// you may not use this file except in compliance with the License.\n",
              "// You may obtain a copy of the License at\n",
              "//\n",
              "//      http://www.apache.org/licenses/LICENSE-2.0\n",
              "//\n",
              "// Unless required by applicable law or agreed to in writing, software\n",
              "// distributed under the License is distributed on an \"AS IS\" BASIS,\n",
              "// WITHOUT WARRANTIES OR CONDITIONS OF ANY KIND, either express or implied.\n",
              "// See the License for the specific language governing permissions and\n",
              "// limitations under the License.\n",
              "\n",
              "/**\n",
              " * @fileoverview Helpers for google.colab Python module.\n",
              " */\n",
              "(function(scope) {\n",
              "function span(text, styleAttributes = {}) {\n",
              "  const element = document.createElement('span');\n",
              "  element.textContent = text;\n",
              "  for (const key of Object.keys(styleAttributes)) {\n",
              "    element.style[key] = styleAttributes[key];\n",
              "  }\n",
              "  return element;\n",
              "}\n",
              "\n",
              "// Max number of bytes which will be uploaded at a time.\n",
              "const MAX_PAYLOAD_SIZE = 100 * 1024;\n",
              "\n",
              "function _uploadFiles(inputId, outputId) {\n",
              "  const steps = uploadFilesStep(inputId, outputId);\n",
              "  const outputElement = document.getElementById(outputId);\n",
              "  // Cache steps on the outputElement to make it available for the next call\n",
              "  // to uploadFilesContinue from Python.\n",
              "  outputElement.steps = steps;\n",
              "\n",
              "  return _uploadFilesContinue(outputId);\n",
              "}\n",
              "\n",
              "// This is roughly an async generator (not supported in the browser yet),\n",
              "// where there are multiple asynchronous steps and the Python side is going\n",
              "// to poll for completion of each step.\n",
              "// This uses a Promise to block the python side on completion of each step,\n",
              "// then passes the result of the previous step as the input to the next step.\n",
              "function _uploadFilesContinue(outputId) {\n",
              "  const outputElement = document.getElementById(outputId);\n",
              "  const steps = outputElement.steps;\n",
              "\n",
              "  const next = steps.next(outputElement.lastPromiseValue);\n",
              "  return Promise.resolve(next.value.promise).then((value) => {\n",
              "    // Cache the last promise value to make it available to the next\n",
              "    // step of the generator.\n",
              "    outputElement.lastPromiseValue = value;\n",
              "    return next.value.response;\n",
              "  });\n",
              "}\n",
              "\n",
              "/**\n",
              " * Generator function which is called between each async step of the upload\n",
              " * process.\n",
              " * @param {string} inputId Element ID of the input file picker element.\n",
              " * @param {string} outputId Element ID of the output display.\n",
              " * @return {!Iterable<!Object>} Iterable of next steps.\n",
              " */\n",
              "function* uploadFilesStep(inputId, outputId) {\n",
              "  const inputElement = document.getElementById(inputId);\n",
              "  inputElement.disabled = false;\n",
              "\n",
              "  const outputElement = document.getElementById(outputId);\n",
              "  outputElement.innerHTML = '';\n",
              "\n",
              "  const pickedPromise = new Promise((resolve) => {\n",
              "    inputElement.addEventListener('change', (e) => {\n",
              "      resolve(e.target.files);\n",
              "    });\n",
              "  });\n",
              "\n",
              "  const cancel = document.createElement('button');\n",
              "  inputElement.parentElement.appendChild(cancel);\n",
              "  cancel.textContent = 'Cancel upload';\n",
              "  const cancelPromise = new Promise((resolve) => {\n",
              "    cancel.onclick = () => {\n",
              "      resolve(null);\n",
              "    };\n",
              "  });\n",
              "\n",
              "  // Wait for the user to pick the files.\n",
              "  const files = yield {\n",
              "    promise: Promise.race([pickedPromise, cancelPromise]),\n",
              "    response: {\n",
              "      action: 'starting',\n",
              "    }\n",
              "  };\n",
              "\n",
              "  cancel.remove();\n",
              "\n",
              "  // Disable the input element since further picks are not allowed.\n",
              "  inputElement.disabled = true;\n",
              "\n",
              "  if (!files) {\n",
              "    return {\n",
              "      response: {\n",
              "        action: 'complete',\n",
              "      }\n",
              "    };\n",
              "  }\n",
              "\n",
              "  for (const file of files) {\n",
              "    const li = document.createElement('li');\n",
              "    li.append(span(file.name, {fontWeight: 'bold'}));\n",
              "    li.append(span(\n",
              "        `(${file.type || 'n/a'}) - ${file.size} bytes, ` +\n",
              "        `last modified: ${\n",
              "            file.lastModifiedDate ? file.lastModifiedDate.toLocaleDateString() :\n",
              "                                    'n/a'} - `));\n",
              "    const percent = span('0% done');\n",
              "    li.appendChild(percent);\n",
              "\n",
              "    outputElement.appendChild(li);\n",
              "\n",
              "    const fileDataPromise = new Promise((resolve) => {\n",
              "      const reader = new FileReader();\n",
              "      reader.onload = (e) => {\n",
              "        resolve(e.target.result);\n",
              "      };\n",
              "      reader.readAsArrayBuffer(file);\n",
              "    });\n",
              "    // Wait for the data to be ready.\n",
              "    let fileData = yield {\n",
              "      promise: fileDataPromise,\n",
              "      response: {\n",
              "        action: 'continue',\n",
              "      }\n",
              "    };\n",
              "\n",
              "    // Use a chunked sending to avoid message size limits. See b/62115660.\n",
              "    let position = 0;\n",
              "    do {\n",
              "      const length = Math.min(fileData.byteLength - position, MAX_PAYLOAD_SIZE);\n",
              "      const chunk = new Uint8Array(fileData, position, length);\n",
              "      position += length;\n",
              "\n",
              "      const base64 = btoa(String.fromCharCode.apply(null, chunk));\n",
              "      yield {\n",
              "        response: {\n",
              "          action: 'append',\n",
              "          file: file.name,\n",
              "          data: base64,\n",
              "        },\n",
              "      };\n",
              "\n",
              "      let percentDone = fileData.byteLength === 0 ?\n",
              "          100 :\n",
              "          Math.round((position / fileData.byteLength) * 100);\n",
              "      percent.textContent = `${percentDone}% done`;\n",
              "\n",
              "    } while (position < fileData.byteLength);\n",
              "  }\n",
              "\n",
              "  // All done.\n",
              "  yield {\n",
              "    response: {\n",
              "      action: 'complete',\n",
              "    }\n",
              "  };\n",
              "}\n",
              "\n",
              "scope.google = scope.google || {};\n",
              "scope.google.colab = scope.google.colab || {};\n",
              "scope.google.colab._files = {\n",
              "  _uploadFiles,\n",
              "  _uploadFilesContinue,\n",
              "};\n",
              "})(self);\n",
              "</script> "
            ]
          },
          "metadata": {}
        }
      ]
    },
    {
      "cell_type": "code",
      "source": [
        "df = pd.read_csv('/content/cars_onehotencoding.csv', delimiter = ',')"
      ],
      "metadata": {
        "id": "yhAO78K3fQgt"
      },
      "execution_count": null,
      "outputs": []
    },
    {
      "cell_type": "code",
      "source": [
        "cat_columns = []\n",
        "num_columns = []\n",
        "\n",
        "for column_name in df.columns:\n",
        "    if (df[column_name].dtypes == object):\n",
        "        cat_columns +=[column_name]\n",
        "    else:\n",
        "        num_columns +=[column_name]\n",
        "\n",
        "print('Категориальные данные:\\t ',cat_columns, '\\n Число столблцов = ',len(cat_columns))\n",
        "\n",
        "print('Числовые данные:\\t ',  num_columns, '\\n Число столблцов = ',len(num_columns))"
      ],
      "metadata": {
        "id": "pk-Ao8gBfmf2"
      },
      "execution_count": null,
      "outputs": []
    },
    {
      "cell_type": "markdown",
      "source": [
        "*Линейная регрессия*"
      ],
      "metadata": {
        "id": "hqUUIMlef1_S"
      }
    },
    {
      "cell_type": "code",
      "source": [
        "df_num = df[num_columns].copy()\n",
        "\n",
        "df_num.info()\n",
        "\n",
        "X,y = df_num.drop(columns = ['Price(euro)']).values,df_num['Price(euro)'].values # x = все параметры кроме Price, y = Price\n",
        "\n",
        "features_names = df_num.drop(columns = ['Price(euro)']).columns\n",
        "\n",
        "X_train, X_test, y_train, y_test = train_test_split(X, y, test_size=0.3, random_state=42)\n",
        "\n",
        "scaler  = MinMaxScaler()\n",
        "scaler.fit_transform(X_train)\n",
        "X_train = scaler.transform(X_train) \n",
        "X_test  = scaler.transform(X_test) \n",
        "\n",
        "pd.DataFrame(X_train).tail()"
      ],
      "metadata": {
        "id": "s2vP4_i3fzqc"
      },
      "execution_count": null,
      "outputs": []
    },
    {
      "cell_type": "code",
      "source": [
        "regr = LinearRegression(learning_rate=0.001,epochs=300,batch_size=3000)\n",
        "regr.fit(X_train, y_train)\n",
        "\n",
        "regr.plot_cost()\n",
        "\n",
        "print( 'train R2: %.4f; test R2: %.4f' % (regr.score(X_train, y_train), regr.score(X_test, y_test)))"
      ],
      "metadata": {
        "id": "WAiUBA2dgASH"
      },
      "execution_count": null,
      "outputs": []
    },
    {
      "cell_type": "markdown",
      "source": [
        "***Посмотрим веса***"
      ],
      "metadata": {
        "id": "iGGdsRUSgDFx"
      }
    },
    {
      "cell_type": "code",
      "source": [
        "w, b = regr.get_w_and_b()\n",
        "plt.figure(figsize=(199,100))\n",
        "vis_weigths(w, features_names)"
      ],
      "metadata": {
        "id": "sBHgIxwxgInC"
      },
      "execution_count": null,
      "outputs": []
    },
    {
      "cell_type": "code",
      "source": [
        "yhat = predict(w, X_test)\n",
        "plt.plot(y_test, label='original')\n",
        "plt.plot(yhat, label='predicted');"
      ],
      "metadata": {
        "id": "5dN3EUbSgLLD"
      },
      "execution_count": null,
      "outputs": []
    },
    {
      "cell_type": "code",
      "source": [
        "np.sum(np.abs(w))"
      ],
      "metadata": {
        "id": "SSN-JWiVgN86"
      },
      "execution_count": null,
      "outputs": []
    },
    {
      "cell_type": "code",
      "source": [
        "plt.scatter(y_test,yhat,alpha = 0.7)\n",
        "plt.plot([y_test.min(),y_test.max()],[y_test.min(),y_test.max()], 'r')\n",
        "plt.xlabel('original')\n",
        "plt.ylabel('predicted');"
      ],
      "metadata": {
        "id": "U4eVdJYSgRpv"
      },
      "execution_count": null,
      "outputs": []
    },
    {
      "cell_type": "markdown",
      "source": [
        "***MSE***"
      ],
      "metadata": {
        "id": "Qk9C45HYgWuX"
      }
    },
    {
      "cell_type": "code",
      "source": [
        "mean_square_error(w, X_test, y_test)"
      ],
      "metadata": {
        "id": "M1vsgsELgX-h"
      },
      "execution_count": null,
      "outputs": []
    },
    {
      "cell_type": "markdown",
      "source": [
        "***MAE***"
      ],
      "metadata": {
        "id": "RycJAtGmgc8B"
      }
    },
    {
      "cell_type": "code",
      "source": [
        "mean_absolute_error(w, X_test, y_test)"
      ],
      "metadata": {
        "id": "pGzcdsUDgcl4"
      },
      "execution_count": null,
      "outputs": []
    },
    {
      "cell_type": "markdown",
      "source": [
        "***Коэффициент детерменации***"
      ],
      "metadata": {
        "id": "WlLlTWhUgjoF"
      }
    },
    {
      "cell_type": "code",
      "source": [
        "r2_score(w, X_test, y_test)"
      ],
      "metadata": {
        "id": "ya__dpSLgnlp"
      },
      "execution_count": null,
      "outputs": []
    }
  ]
}